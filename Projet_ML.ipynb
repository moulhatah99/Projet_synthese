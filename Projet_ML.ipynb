{
 "cells": [
  {
   "cell_type": "code",
   "execution_count": null,
   "id": "72f19917",
   "metadata": {},
   "outputs": [],
   "source": [
    "import pandas as pd\n",
    "import numpy as np\n",
    "\n",
    "# Chargement des données (remplacer 'path_to_file.csv' par le chemin vers le fichier complet)\n",
    "df = pd.read_csv(\"ecommerce_data.csv\")\n",
    "\n",
    "# Affichage des premières lignes\n",
    "print(\"Aperçu du dataset :\")\n",
    "print(df.head())\n",
    "\n",
    "# Aperçu des informations du dataset\n",
    "print(\"\\nInformations sur le dataset :\")\n",
    "print(df.info())\n",
    "\n",
    "# Statistiques descriptives des colonnes numériques\n",
    "print(\"\\nStatistiques descriptives :\")\n",
    "print(df.describe())"
   ]
  },
  {
   "cell_type": "code",
   "execution_count": null,
   "id": "2ab9be10",
   "metadata": {},
   "outputs": [],
   "source": [
    "# Vérification des valeurs manquantes dans chaque colonne\n",
    "print(\"\\nValeurs manquantes par colonne :\")\n",
    "print(df.isnull().sum())\n"
   ]
  },
  {
   "cell_type": "code",
   "execution_count": null,
   "id": "6a6965f2",
   "metadata": {},
   "outputs": [],
   "source": [
    "# Suppression des lignes avec des valeurs nulles dans 'customer_id' et 'customer_name'\n",
    "df_cleaned = df.dropna(subset=['customer_id', 'customer_name'])\n",
    "\n",
    "# Créer une copie du DataFrame nettoyé\n",
    "df_cleaned = df_cleaned.copy()\n",
    "\n",
    "\n",
    "# Remplacement des valeurs manquantes pour simplifier l'analyse\n",
    "df_cleaned.fillna({\n",
    "    'customer_age': df['customer_age'].mean(),\n",
    "    'purchase_amount': df['purchase_amount'].mean(),\n",
    "    'product_rating': df['product_rating'].mode()[0],\n",
    "    'loyalty_status': 'Unknown',\n",
    "    'product_category': 'Unknown',\n",
    "    'delivery_status': 'Unknown',\n",
    "    'payment_status': 'Unknown',\n",
    "    'customer_gender': 'Unknown',\n",
    "    'country': 'Unknown',\n",
    "    'shipping_region': 'Unknown'\n",
    "}, inplace=True)\n",
    "\n",
    "\n",
    "# Transformation des colonnes catégoriques en numériques\n",
    "\n",
    "df_cleaned['loyalty_status'] = df_cleaned['loyalty_status'].astype('category').cat.codes\n",
    "df_cleaned['product_category'] = df_cleaned['product_category'].astype('category').cat.codes\n",
    "df_cleaned['delivery_status'] = df_cleaned['delivery_status'].astype('category').cat.codes\n",
    "df_cleaned['payment_status'] = df_cleaned['payment_status'].astype('category').cat.codes\n",
    "df_cleaned['customer_gender'] = df_cleaned['customer_gender'].astype('category').cat.codes\n",
    "df_cleaned['country'] = df_cleaned['country'].astype('category').cat.codes\n",
    "df_cleaned['shipping_region'] = df_cleaned['shipping_region'].astype('category').cat.codes\n",
    "\n",
    "\n",
    "# Vérification des valeurs manquantes après nettoyage\n",
    "print(\"\\nValeurs manquantes après nettoyage :\")\n",
    "print(df_cleaned.isnull().sum())\n"
   ]
  },
  {
   "cell_type": "code",
   "execution_count": null,
   "id": "31e339a5",
   "metadata": {},
   "outputs": [],
   "source": [
    "from sklearn.preprocessing import StandardScaler\n",
    "\n",
    "# Sélectionner les colonnes numériques à standardiser\n",
    "columns_to_standardize = ['purchase_amount', 'customer_age', 'product_rating']\n",
    "# Initialiser le StandardScaler\n",
    "scaler = StandardScaler()\n",
    "\n",
    "# Appliquer la standardisation sur les colonnes sélectionnées\n",
    "df_cleaned[columns_to_standardize] = scaler.fit_transform(df_cleaned[columns_to_standardize])\n",
    "\n",
    "# Vérification des valeurs manquantes après standardisation\n",
    "print(\"\\nValeurs manquantes après standardisation :\")\n",
    "print(df_cleaned.isnull().sum())\n",
    "\n",
    "# Aperçu des premières lignes après standardisation\n",
    "print(\"\\nAperçu du dataset après standardisation :\")\n",
    "print(df_cleaned.head())\n",
    "\n",
    "# Si tu veux vérifier les statistiques après standardisation :\n",
    "print(\"\\nStatistiques descriptives après standardisation :\")\n",
    "print(df_cleaned[columns_to_standardize].describe())\n"
   ]
  },
  {
   "cell_type": "code",
   "execution_count": null,
   "id": "b5b74a3a",
   "metadata": {},
   "outputs": [],
   "source": [
    "from sklearn.cluster import KMeans\n",
    "import seaborn as sns\n",
    "import matplotlib.pyplot as plt\n",
    "\n",
    "# Appliquer K-Means avec un nombre de clusters choisi (par exemple, 4)\n",
    "kmeans = KMeans(n_clusters=4, random_state=42)\n",
    "\n",
    "# Appliquer le modèle KMeans sur les données standardisées\n",
    "df_cleaned['cluster'] = kmeans.fit_predict(df_cleaned[columns_to_standardize])\n",
    "\n",
    "# Afficher les centres des clusters\n",
    "centers = pd.DataFrame(kmeans.cluster_centers_, columns=columns_to_standardize)\n",
    "print(\"\\nCentres des clusters :\")\n",
    "print(centers)\n",
    "\n",
    "# Visualisation des clusters avec un graphique simple (exemple avec 'purchase_amount' vs 'customer_age')\n",
    "sns.scatterplot(x=df_cleaned['customer_age'], y=df_cleaned['purchase_amount'], hue=df_cleaned['cluster'], palette='viridis')\n",
    "plt.title(\"Segmentation des clients avec K-Means\")\n",
    "plt.xlabel(\"Âge du client\")\n",
    "plt.ylabel(\"Montant des achats\")\n",
    "plt.legend(title='Cluster')\n",
    "plt.show()\n",
    "\n"
   ]
  },
  {
   "cell_type": "code",
   "execution_count": null,
   "id": "fe9941d0",
   "metadata": {},
   "outputs": [],
   "source": [
    "# Pairplot pour visualiser les relations entre plusieurs variables dans les clusters\n",
    "sns.pairplot(df_cleaned, hue=\"cluster\", vars=['purchase_amount', 'customer_age', 'product_rating', 'loyalty_status'], palette='viridis')\n",
    "plt.suptitle(\"Segmentation des clients par K-Means\", y=1.02)\n",
    "plt.show()\n"
   ]
  },
  {
   "cell_type": "code",
   "execution_count": null,
   "id": "65f92fc1",
   "metadata": {},
   "outputs": [],
   "source": [
    "from sklearn.decomposition import PCA\n",
    "\n",
    "# Appliquer PCA pour réduire la dimensionnalité à 2 dimensions\n",
    "pca = PCA(n_components=2)\n",
    "pca_components = pca.fit_transform(df_cleaned[columns_to_standardize])\n",
    "\n",
    "# Ajouter les résultats PCA dans le DataFrame\n",
    "df_cleaned['pca1'] = pca_components[:, 0]\n",
    "df_cleaned['pca2'] = pca_components[:, 1]\n",
    "\n",
    "# Visualisation des clusters avec les deux premières composantes principales\n",
    "sns.scatterplot(x='pca1', y='pca2', hue='cluster', data=df_cleaned, palette='viridis')\n",
    "plt.title(\"Segmentation des clients avec PCA et K-Means\")\n",
    "plt.legend(title='Cluster')\n",
    "plt.show()\n"
   ]
  },
  {
   "cell_type": "code",
   "execution_count": null,
   "id": "37cfa55e",
   "metadata": {},
   "outputs": [],
   "source": []
  },
  {
   "cell_type": "code",
   "execution_count": null,
   "id": "ffb82f30",
   "metadata": {},
   "outputs": [],
   "source": []
  },
  {
   "cell_type": "code",
   "execution_count": null,
   "id": "75cd4584",
   "metadata": {},
   "outputs": [],
   "source": []
  },
  {
   "cell_type": "code",
   "execution_count": null,
   "id": "964aec71",
   "metadata": {},
   "outputs": [],
   "source": []
  },
  {
   "cell_type": "code",
   "execution_count": null,
   "id": "e74dc28a",
   "metadata": {},
   "outputs": [],
   "source": []
  },
  {
   "cell_type": "code",
   "execution_count": null,
   "id": "9bd3328c",
   "metadata": {},
   "outputs": [],
   "source": []
  },
  {
   "cell_type": "code",
   "execution_count": null,
   "id": "063fa9c2",
   "metadata": {},
   "outputs": [],
   "source": []
  },
  {
   "cell_type": "code",
   "execution_count": null,
   "id": "d047462f",
   "metadata": {},
   "outputs": [],
   "source": []
  }
 ],
 "metadata": {
  "kernelspec": {
   "display_name": "Python 3 (ipykernel)",
   "language": "python",
   "name": "python3"
  },
  "language_info": {
   "codemirror_mode": {
    "name": "ipython",
    "version": 3
   },
   "file_extension": ".py",
   "mimetype": "text/x-python",
   "name": "python",
   "nbconvert_exporter": "python",
   "pygments_lexer": "ipython3",
   "version": "3.9.13"
  }
 },
 "nbformat": 4,
 "nbformat_minor": 5
}
